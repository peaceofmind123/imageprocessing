{
 "cells": [
  {
   "cell_type": "code",
   "execution_count": 1,
   "id": "f0e79dbd",
   "metadata": {},
   "outputs": [],
   "source": [
    "# The following algorithms implemented as directed in CLRS"
   ]
  },
  {
   "cell_type": "code",
   "execution_count": 2,
   "id": "4a074df8",
   "metadata": {},
   "outputs": [],
   "source": [
    "import numpy as np\n",
    "import math"
   ]
  },
  {
   "cell_type": "code",
   "execution_count": 44,
   "id": "8bc4d4c1",
   "metadata": {},
   "outputs": [],
   "source": [
    "def recursive_fft(a):\n",
    "    n = len(a)\n",
    "    y = np.zeros(n, dtype='complex_')\n",
    "    return _recursive_fft(a,y)\n",
    "\n",
    "def _recursive_fft(a,y):\n",
    "    temp = np.copy(y)\n",
    "    n = len(a)\n",
    "    if n == 1:\n",
    "        return a\n",
    "    w_n = math.e ** (2*math.pi*(1j))/n\n",
    "    w = 1 + 0j\n",
    "    a_0 = np.array([a[i] for i in range(0,n, 2)], dtype='complex_')\n",
    "    a_1 = np.array([a[i] for i in range(1, n, 2)], dtype='complex_')\n",
    "    y_0 = _recursive_fft(a_0,y)\n",
    "    y_1 = _recursive_fft(a_1,y)\n",
    "    print(a_0, y_0)\n",
    "    \n",
    "    for k in range(math.floor(n/2) - 1):\n",
    "        temp[k] = y_0[k] + w*y_1[k]\n",
    "        temp[k+math.floor(n/2)] = y_0[k] - w*y_1[k]\n",
    "        w = w * w_n\n",
    "    \n",
    "    return temp\n",
    "        "
   ]
  },
  {
   "cell_type": "code",
   "execution_count": 45,
   "id": "29928437",
   "metadata": {},
   "outputs": [
    {
     "name": "stdout",
     "output_type": "stream",
     "text": [
      "[1.+0.j] [1.+0.j]\n",
      "[1.+0.j] [1.+0.j]\n",
      "[ 1.+0.j 65.+0.j] [0.+0.j 0.+0.j 0.+0.j 0.+0.j 0.+0.j 0.+0.j 0.+0.j]\n",
      "[2.+0.j] [2.+0.j]\n",
      "[2.+0.j 7.+0.j] [0.+0.j 0.+0.j 0.+0.j 0.+0.j 0.+0.j 0.+0.j 0.+0.j]\n",
      "[ 1.+0.j  1.+0.j 65.+0.j  8.+0.j] [0.+0.j 0.+0.j 0.+0.j 0.+0.j 0.+0.j 0.+0.j 0.+0.j]\n"
     ]
    },
    {
     "data": {
      "text/plain": [
       "array([0.+0.j, 0.+0.j, 0.+0.j, 0.+0.j, 0.+0.j, 0.+0.j, 0.+0.j])"
      ]
     },
     "execution_count": 45,
     "metadata": {},
     "output_type": "execute_result"
    }
   ],
   "source": [
    "a = [1,2,1,45,65,7,8]\n",
    "recursive_fft(a)"
   ]
  },
  {
   "cell_type": "code",
   "execution_count": null,
   "id": "bd466c98",
   "metadata": {},
   "outputs": [],
   "source": []
  }
 ],
 "metadata": {
  "kernelspec": {
   "display_name": "Python 3",
   "language": "python",
   "name": "python3"
  },
  "language_info": {
   "codemirror_mode": {
    "name": "ipython",
    "version": 3
   },
   "file_extension": ".py",
   "mimetype": "text/x-python",
   "name": "python",
   "nbconvert_exporter": "python",
   "pygments_lexer": "ipython3",
   "version": "3.9.4"
  }
 },
 "nbformat": 4,
 "nbformat_minor": 5
}
