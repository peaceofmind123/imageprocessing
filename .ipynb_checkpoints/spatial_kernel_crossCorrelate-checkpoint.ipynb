{
 "cells": [
  {
   "cell_type": "code",
   "execution_count": 1,
   "id": "208866e6",
   "metadata": {},
   "outputs": [],
   "source": [
    "import math\n",
    "import numpy as np\n",
    "import matplotlib.pyplot as plt\n",
    "import scipy.signal"
   ]
  },
  {
   "cell_type": "code",
   "execution_count": 2,
   "id": "a7373dd5",
   "metadata": {},
   "outputs": [],
   "source": [
    "def crossCorrelate(M,K):\n",
    "    # this code only for demo, extremely inefficient (O(N)^4)\n",
    "    # use scipy.signal.correlate2D for a fft2 based method\n",
    "    # assumes a properly padded image and a kernel with odd rows and cols\n",
    "    h1, k1 = M.shape\n",
    "    h2,k2 = K.shape\n",
    "    midH = int((h2-1)/2)\n",
    "    midK = int((k2-1)/2)\n",
    "    accum = np.zeros((h1,k1))\n",
    "    for i in range(midH, h1-midH):\n",
    "        for j in range(midK, k1 - midK):\n",
    "            for l in range(-midH, midH+1):\n",
    "                for t in range(-midK, midK+1):\n",
    "                    accum[i,j] = M[i+l,j+t]*K[l+midH, t+midK]\n",
    "    \n",
    "    return accum"
   ]
  }
 ],
 "metadata": {
  "kernelspec": {
   "display_name": "Python 3",
   "language": "python",
   "name": "python3"
  },
  "language_info": {
   "codemirror_mode": {
    "name": "ipython",
    "version": 3
   },
   "file_extension": ".py",
   "mimetype": "text/x-python",
   "name": "python",
   "nbconvert_exporter": "python",
   "pygments_lexer": "ipython3",
   "version": "3.9.4"
  }
 },
 "nbformat": 4,
 "nbformat_minor": 5
}
